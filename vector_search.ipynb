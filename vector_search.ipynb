{
 "cells": [
  {
   "cell_type": "code",
   "execution_count": null,
   "metadata": {},
   "outputs": [],
   "source": [
    "pip install --upgrade \"langchain>=0.1.0\" \"langchain-community>=0.0.29\" \"langchain-openai>=0.0.5\" \"openai>=1.12.0\" \"chromadb>=0.4.22\" \"langchain-chroma>=0.0.1\" \"python-dotenv>=1.0.0\""
   ]
  },
  {
   "cell_type": "code",
   "execution_count": null,
   "metadata": {},
   "outputs": [],
   "source": [
    "# 벡터 임베딩\n",
    "# Chroma 사용\n",
    "\n",
    "import csv\n",
    "from langchain_chroma import Chroma\n",
    "from langchain_core.documents import Document\n",
    "from langchain_openai import OpenAIEmbeddings\n",
    "from langchain_text_splitters import CharacterTextSplitter\n",
    "from dotenv import load_dotenv\n",
    "import os\n",
    "\n",
    "# .env 파일 로드\n",
    "load_dotenv()\n",
    "\n",
    "open_ai_api_key = os.getenv('OPENAI_API_KEY')\n",
    "course_csv_path = os.getenv('COURSE_CSV_PATH')\n",
    "\n",
    "embedding_model = OpenAIEmbeddings(\n",
    "    model = \"text-embedding-3-large\",\n",
    "    openai_api_key = open_ai_api_key,\n",
    "    request_timeout = 3000,\n",
    ")\n",
    "\n",
    "raw_documents = []\n",
    "with open(course_csv_path,'r', encoding='utf-8-sig') as fh:\n",
    "    reader = csv.DictReader(fh)\n",
    "    for row in reader:\n",
    "        course_text = f\"{row['Course_Name']}: {row['Course_Description']}, {row['Course_Teacher']}\"\n",
    "        document = Document(\n",
    "            page_content= course_text,\n",
    "            metadata= {\n",
    "                'course_id': row['Course_Id']\n",
    "            },\n",
    "            id=row['Course_Id']\n",
    "        )\n",
    "        raw_documents.append(document)\n",
    "\n",
    "vector = Chroma.from_documents(\n",
    "    documents=raw_documents,\n",
    "    embedding=embedding_model, \n",
    "    persist_directory='./course_vector_db', \n",
    "    collection_name=\"courses\"\n",
    ")"
   ]
  },
  {
   "cell_type": "code",
   "execution_count": null,
   "metadata": {},
   "outputs": [],
   "source": [
    "# Chroma DB에 접근하는 코드\n",
    "from langchain_chroma import Chroma\n",
    "from chromadb import Client, Settings\n",
    "\n",
    "# 클라이언트 생성\n",
    "client = Client(Settings(\n",
    "    persist_directory='./course_vector_db',\n",
    "    is_persistent=True\n",
    "))\n",
    "\n",
    "# 컬렉션 가져오기\n",
    "collection = client.get_collection(name=\"courses\")\n",
    "\n",
    "# 컬렉션의 모든 항목 가져오기\n",
    "results = collection.get(include=['embeddings', 'documents', 'metadatas'])\n",
    "\n",
    "# 결과 확인\n",
    "if results:\n",
    "    print(f\"저장된 문서 수: {len(results['ids'])}\")\n",
    "    # 처음 몇 개의 문서 출력\n",
    "    for i in range(min(3, len(results['ids']))):\n",
    "        print(f\"\\n문서 ID: {results['ids'][i]}\")\n",
    "        print(f\"문서 내용: {results['documents'][i]}\")\n",
    "        print(f\"메타데이터: {results['metadatas'][i]}\")\n",
    "        print(f\"임베딩: {results['embeddings'][i].tolist()}\")\n",
    "else:\n",
    "    print(\"컬렉션이 비어있거나 접근할 수 없습니다.\")"
   ]
  },
  {
   "cell_type": "code",
   "execution_count": null,
   "metadata": {},
   "outputs": [],
   "source": [
    "# 또는 LangChain의 Chroma를 사용할 경우:\n",
    "db = Chroma(\n",
    "    persist_directory='./course_vector_db',\n",
    "    embedding_function=embedding_model,\n",
    "    collection_name=\"courses\"\n",
    ")\n",
    "\n",
    "\n",
    "\n",
    "# 간단한 검색 테스트\n",
    "print(f\"시맨틱 검색\")\n",
    "search_query = \"Recommend me a data analysis course\"\n",
    "print(f\"검색 쿼리: {search_query}\")\n",
    "results = db.similarity_search_with_relevance_scores(search_query, k=5)\n",
    "for doc, score in results:\n",
    "    print(f\"유사도 점수: {score:.4f}\")  # 소수점 4자리까지 표시\n",
    "    print(f\"강좌명: {doc.page_content}\")\n",
    "    print(f\"강좌 ID: {doc.metadata['course_id']}\")\n",
    "    print(\"-\" * 50)"
   ]
  }
 ],
 "metadata": {
  "kernelspec": {
   "display_name": "llm",
   "language": "python",
   "name": "llm"
  },
  "language_info": {
   "codemirror_mode": {
    "name": "ipython",
    "version": 3
   },
   "file_extension": ".py",
   "mimetype": "text/x-python",
   "name": "python",
   "nbconvert_exporter": "python",
   "pygments_lexer": "ipython3",
   "version": "3.11.8"
  }
 },
 "nbformat": 4,
 "nbformat_minor": 2
}
